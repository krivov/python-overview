{
 "cells": [
  {
   "cell_type": "markdown",
   "metadata": {},
   "source": [
    "author: Andre Scholich\n",
    "<br>\n",
    "last update: 2016-04-09\n",
    "\n",
    "\n",
    "# Performance strategies\n",
    "\n",
    "Since python is an interpreted programming language (as also e.g. Matlab) it may execute code significantly slower than compiled languages such as C or Fortran.\n",
    "There are now several option of how to deal with this issue.\n",
    "Here, I will follow mainly the example of [Numba vs Cython](https://jakevdp.github.io/blog/2013/06/15/numba-vs-cython-take-2/) from Jake Vanderplas.\n",
    "\n",
    "\n",
    "# Make use of scientific libraries\n",
    "\n",
    "The most straight-forward recommendation is to resort to scientific libraries, in particular numpy and scipy to perform standard tasks such as summation or multiplication of arrays.\n",
    "To illustrate the significance of this point let us examine some execution times."
   ]
  },
  {
   "cell_type": "code",
   "execution_count": 1,
   "metadata": {
    "collapsed": true
   },
   "outputs": [],
   "source": [
    "from pylab import *\n",
    "arr = np.random.random(10000)"
   ]
  },
  {
   "cell_type": "code",
   "execution_count": 2,
   "metadata": {
    "collapsed": true
   },
   "outputs": [],
   "source": [
    "def sum_naive(arr):\n",
    "    \"\"\"Take the sum over an array using a python for loop.\n",
    "    \"\"\"\n",
    "    ret = 0.0\n",
    "    for a in arr:\n",
    "        ret += a\n",
    "    return ret"
   ]
  },
  {
   "cell_type": "markdown",
   "metadata": {},
   "source": [
    "First the naive sum using the python for loop."
   ]
  },
  {
   "cell_type": "code",
   "execution_count": 3,
   "metadata": {
    "collapsed": false
   },
   "outputs": [
    {
     "name": "stdout",
     "output_type": "stream",
     "text": [
      "The slowest run took 4.57 times longer than the fastest. This could mean that an intermediate result is being cached \n",
      "1000 loops, best of 3: 1.44 ms per loop\n"
     ]
    }
   ],
   "source": [
    "%timeit sum_naive(arr)"
   ]
  },
  {
   "cell_type": "markdown",
   "metadata": {},
   "source": [
    "Now the same sum using the precompiled numpy sum function."
   ]
  },
  {
   "cell_type": "code",
   "execution_count": 4,
   "metadata": {
    "collapsed": false
   },
   "outputs": [
    {
     "name": "stdout",
     "output_type": "stream",
     "text": [
      "The slowest run took 143.69 times longer than the fastest. This could mean that an intermediate result is being cached \n",
      "100000 loops, best of 3: 5.8 µs per loop\n"
     ]
    }
   ],
   "source": [
    "%timeit np.sum(arr)"
   ]
  },
  {
   "cell_type": "markdown",
   "metadata": {},
   "source": [
    "We observe that the execution of the naive sum is several hundred times slower."
   ]
  },
  {
   "cell_type": "markdown",
   "metadata": {},
   "source": [
    "# Compile your own function\n",
    "\n",
    "Sometimes one needs custom functions, which are unavailable in the current scientific packages. In that case on can use either cython, numba, f2py or other ways to compile code into this low-lever languages and use it from within python in the same way as shown for numpy above.\n",
    "\n",
    "Let us take the pairwise distance as a test case."
   ]
  },
  {
   "cell_type": "code",
   "execution_count": 5,
   "metadata": {
    "collapsed": true
   },
   "outputs": [],
   "source": [
    "x = np.random.random((1000, 3))"
   ]
  },
  {
   "cell_type": "code",
   "execution_count": 6,
   "metadata": {
    "collapsed": true
   },
   "outputs": [],
   "source": [
    "def pairwise_python(X):\n",
    "    M = X.shape[0]\n",
    "    N = X.shape[1]\n",
    "    D = np.empty((M, M), dtype=np.float)\n",
    "    for i in range(M):\n",
    "        for j in range(M):\n",
    "            d = 0.0\n",
    "            for k in range(N):\n",
    "                tmp = X[i, k] - X[j, k]\n",
    "                d += tmp * tmp\n",
    "            D[i, j] = np.sqrt(d)\n",
    "    return D"
   ]
  },
  {
   "cell_type": "code",
   "execution_count": 7,
   "metadata": {
    "collapsed": false
   },
   "outputs": [
    {
     "name": "stdout",
     "output_type": "stream",
     "text": [
      "1 loops, best of 3: 2.39 s per loop\n"
     ]
    }
   ],
   "source": [
    "%timeit pairwise_python(x)"
   ]
  },
  {
   "cell_type": "markdown",
   "metadata": {},
   "source": [
    "Note that this particular example can also be solved by resorting to numpy functions and broadcasting, which has the drawback of using much more memory (M * N * M) instead of M * M entries as it creates a large temporary array."
   ]
  },
  {
   "cell_type": "code",
   "execution_count": 8,
   "metadata": {
    "collapsed": false
   },
   "outputs": [
    {
     "name": "stdout",
     "output_type": "stream",
     "text": [
      "10 loops, best of 3: 41.5 ms per loop\n"
     ]
    }
   ],
   "source": [
    "def pairwise_numpy(X):\n",
    "    return np.sqrt(((X[:, None, :] - X) ** 2).sum(-1))\n",
    "%timeit pairwise_numpy(x)"
   ]
  },
  {
   "cell_type": "markdown",
   "metadata": {},
   "source": [
    "## Numba wrapper\n",
    "\n",
    "In short, numba takes the function and compiles it during execution time (not pre-compiled). Hence the name \"just-in-time\" compiler.\n",
    "Usage is apparently very simple. One calls the function `autojit` on the pure-python implementation and gets back a faster variant."
   ]
  },
  {
   "cell_type": "code",
   "execution_count": 9,
   "metadata": {
    "collapsed": true
   },
   "outputs": [],
   "source": [
    "# from numba import double\n",
    "from numba.decorators import jit, autojit\n",
    "\n",
    "pairwise_numba = autojit(pairwise_python)"
   ]
  },
  {
   "cell_type": "code",
   "execution_count": 10,
   "metadata": {
    "collapsed": false
   },
   "outputs": [
    {
     "name": "stdout",
     "output_type": "stream",
     "text": [
      "The slowest run took 27.16 times longer than the fastest. This could mean that an intermediate result is being cached \n",
      "1 loops, best of 3: 7.95 ms per loop\n"
     ]
    }
   ],
   "source": [
    "%timeit pairwise_numba(x)"
   ]
  },
  {
   "cell_type": "markdown",
   "metadata": {},
   "source": [
    "## Cython\n",
    "\n",
    "As numba seems like magic and one might want more control over what is going on one can also pre-compile c (or c++) code using cython.\n",
    "For simplicity, an IPython magic function is used here but the same can be achieved in a similar manner in pure python code."
   ]
  },
  {
   "cell_type": "code",
   "execution_count": 11,
   "metadata": {
    "collapsed": true
   },
   "outputs": [],
   "source": [
    "import setuptools"
   ]
  },
  {
   "cell_type": "code",
   "execution_count": 12,
   "metadata": {
    "collapsed": false
   },
   "outputs": [],
   "source": [
    "%load_ext cython"
   ]
  },
  {
   "cell_type": "code",
   "execution_count": 13,
   "metadata": {
    "collapsed": false
   },
   "outputs": [],
   "source": [
    "%%cython\n",
    "import numpy as np\n",
    "cimport cython\n",
    "from libc.math cimport sqrt\n",
    "\n",
    "@cython.boundscheck(False)\n",
    "@cython.wraparound(False)\n",
    "def pairwise_cython(double[:, ::1] X):\n",
    "    cdef int M = X.shape[0]\n",
    "    cdef int N = X.shape[1]\n",
    "    cdef double tmp, d\n",
    "    cdef double[:, ::1] D = np.empty((M, M), dtype=np.float64)\n",
    "    for i in range(M):\n",
    "        for j in range(M):\n",
    "            d = 0.0\n",
    "            for k in range(N):\n",
    "                tmp = X[i, k] - X[j, k]\n",
    "                d += tmp * tmp\n",
    "            D[i, j] = sqrt(d)\n",
    "    return np.asarray(D)"
   ]
  },
  {
   "cell_type": "code",
   "execution_count": 14,
   "metadata": {
    "collapsed": false
   },
   "outputs": [
    {
     "name": "stdout",
     "output_type": "stream",
     "text": [
      "The slowest run took 4.34 times longer than the fastest. This could mean that an intermediate result is being cached \n",
      "100 loops, best of 3: 8.59 ms per loop\n"
     ]
    }
   ],
   "source": [
    "%timeit pairwise_cython(x)"
   ]
  },
  {
   "cell_type": "markdown",
   "metadata": {},
   "source": [
    "# Parallel code\n",
    "\n",
    "## IPython parallel\n",
    "\n",
    "Module for easy [parallel calculations](https://ipython.org/ipython-doc/3/parallel/parallel_intro.html).\n",
    "Install with conda\n",
    "\n",
    "    conda install ipyparallel\n",
    "    \n",
    "and start a cluster of four processes in this case.\n",
    "\n",
    "    ipcluster start -n 8\n",
    "    \n",
    "Now we create a client and a direct view object on that client. In short, this gives a handle on all the instances of the cluster and we can perform the same operation on all of them, such as importing modules or defining functions by the `%px` line magic."
   ]
  },
  {
   "cell_type": "code",
   "execution_count": 16,
   "metadata": {
    "collapsed": false
   },
   "outputs": [
    {
     "name": "stderr",
     "output_type": "stream",
     "text": [
      "C:\\Anaconda\\lib\\site-packages\\ipyparallel\\client\\client.py:436: RuntimeWarning: \n",
      "            Controller appears to be listening on localhost, but not on this machine.\n",
      "            If this is true, you should specify Client(...,sshserver='you@172.17.3.108')\n",
      "            or instruct your controller to listen on an external IP.\n",
      "  RuntimeWarning)\n"
     ]
    }
   ],
   "source": [
    "from ipyparallel import Client\n",
    "pc = Client()\n",
    "dview = pc[:]\n",
    "\n",
    "# import time on all remote instances, if you did not start the cluster or it is still starting up you will get an error\n",
    "%px import time\n",
    "# and also import it here in the notebook for reference\n",
    "import time"
   ]
  },
  {
   "cell_type": "code",
   "execution_count": 17,
   "metadata": {
    "collapsed": true
   },
   "outputs": [],
   "source": [
    "def wait(i):\n",
    "    time.sleep(.5)\n",
    "    return i"
   ]
  },
  {
   "cell_type": "code",
   "execution_count": 18,
   "metadata": {
    "collapsed": false
   },
   "outputs": [
    {
     "name": "stdout",
     "output_type": "stream",
     "text": [
      "[0, 1, 2, 3, 4, 5, 6, 7]\n",
      "Wall time: 4.12 s\n"
     ]
    }
   ],
   "source": [
    "%%time\n",
    "result = map(wait, range(8))\n",
    "print result"
   ]
  },
  {
   "cell_type": "code",
   "execution_count": 19,
   "metadata": {
    "collapsed": false
   },
   "outputs": [
    {
     "name": "stdout",
     "output_type": "stream",
     "text": [
      "[0, 1, 2, 3, 4, 5, 6, 7]\n",
      "Wall time: 686 ms\n"
     ]
    }
   ],
   "source": [
    "%%time\n",
    "worker = dview.map_async(wait, range(8))\n",
    "result = worker.get()\n",
    "print result"
   ]
  },
  {
   "cell_type": "markdown",
   "metadata": {},
   "source": [
    "## Without IPython using `multiprocessing`\n",
    "\n",
    "Basic module for creating a pool of threads and running on several cpu cores in parallel.\n",
    "\n",
    "[website](https://pymotw.com/2/multiprocessing/basics.html)"
   ]
  },
  {
   "cell_type": "code",
   "execution_count": null,
   "metadata": {
    "collapsed": true
   },
   "outputs": [],
   "source": []
  }
 ],
 "metadata": {
  "kernelspec": {
   "display_name": "Python 2",
   "language": "python",
   "name": "python2"
  },
  "language_info": {
   "codemirror_mode": {
    "name": "ipython",
    "version": 2
   },
   "file_extension": ".py",
   "mimetype": "text/x-python",
   "name": "python",
   "nbconvert_exporter": "python",
   "pygments_lexer": "ipython2",
   "version": "2.7.11"
  }
 },
 "nbformat": 4,
 "nbformat_minor": 0
}
